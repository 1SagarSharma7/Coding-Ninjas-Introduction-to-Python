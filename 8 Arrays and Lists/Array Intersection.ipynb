{
 "cells": [
  {
   "cell_type": "code",
   "execution_count": 1,
   "metadata": {},
   "outputs": [
    {
     "name": "stdout",
     "output_type": "stream",
     "text": [
      "6\n",
      "2 6 8 5 4 3\n",
      "4\n",
      "2 3 4 7\n",
      "2\n",
      "4\n",
      "3\n"
     ]
    }
   ],
   "source": [
    "n1=int(input())\n",
    "arr1=[int(x) for x in input().strip().split()][:n1]\n",
    "n2=int(input())\n",
    "arr2=[int(x) for x in input().strip().split()][:n2]\n",
    "for i in range(0,len(arr1)):\n",
    "    for j in range(0,len(arr2)):\n",
    "        if(arr1[i]==arr2[j]):\n",
    "            print(arr1[i])\n",
    "            arr2[j]=-1\n",
    "            break"
   ]
  }
 ],
 "metadata": {
  "kernelspec": {
   "display_name": "Python 3",
   "language": "python",
   "name": "python3"
  },
  "language_info": {
   "codemirror_mode": {
    "name": "ipython",
    "version": 3
   },
   "file_extension": ".py",
   "mimetype": "text/x-python",
   "name": "python",
   "nbconvert_exporter": "python",
   "pygments_lexer": "ipython3",
   "version": "3.7.6"
  }
 },
 "nbformat": 4,
 "nbformat_minor": 4
}
